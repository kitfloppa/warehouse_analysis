{
 "cells": [
  {
   "cell_type": "code",
   "execution_count": 6,
   "metadata": {},
   "outputs": [],
   "source": [
    "import sqlite3\n",
    "import pandas as pd"
   ]
  },
  {
   "cell_type": "code",
   "execution_count": 3,
   "metadata": {},
   "outputs": [],
   "source": [
    "def create_db(db_file):\n",
    "    try:\n",
    "        conn = sqlite3.connect(db_file)\n",
    "    except sqlite3.Error as error:\n",
    "        print(error)\n",
    "    finally:\n",
    "        if conn:\n",
    "            conn.close()"
   ]
  },
  {
   "cell_type": "code",
   "execution_count": 4,
   "metadata": {},
   "outputs": [],
   "source": [
    "create_db('source.db')"
   ]
  },
  {
   "cell_type": "code",
   "execution_count": 7,
   "metadata": {},
   "outputs": [
    {
     "name": "stderr",
     "output_type": "stream",
     "text": [
      "c:\\Users\\andre\\AppData\\Local\\Programs\\Python\\Python39\\lib\\site-packages\\pandas\\core\\generic.py:2872: UserWarning: The spaces in these column names will not be changed. In pandas versions < 0.14, spaces were converted to underscores.\n",
      "  sql.to_sql(\n"
     ]
    }
   ],
   "source": [
    "try:\n",
    "    db = sqlite3.connect('source.db')\n",
    "    df_s = pd.read_excel('../data/source.xlsx', sheet_name=None)\n",
    "\n",
    "    for table, df in df_s.items():\n",
    "        df.to_sql(table, db)\n",
    "except sqlite3.Error as error:\n",
    "        print(error)\n",
    "finally:\n",
    "    if db:\n",
    "        db.close()"
   ]
  },
  {
   "cell_type": "code",
   "execution_count": 19,
   "metadata": {},
   "outputs": [
    {
     "name": "stdout",
     "output_type": "stream",
     "text": [
      "Задание № 1:\n",
      "('Автомобильный аксессуар', 'Переходник Deppa USB Type-C - HDMI, USB x2 серый 0.12 м', 5799)\n",
      "('Аксессуар для смарт-часов', 'Ремешок Apple для Apple розовый', 3899)\n",
      "('Зарядное', 'Сетевое зарядное устройство Apple MR2A2ZM/A', 4399)\n",
      "('Защитный аксессуар', '5.15\" Защитное стекло DF для смартфона Honor 9', 799)\n",
      "('Электронное устройство', '11\" Планшет Apple iPad Pro 2018 64 ГБ 3G, LTE серебристый', 78999)\n",
      "\n",
      "Задание № 2:\n",
      "[('Автомобильный держатель', 9)]\n",
      "\n",
      "Задание № 3:\n",
      "[('Планшет', 1681268)]\n"
     ]
    }
   ],
   "source": [
    "try:\n",
    "    db = sqlite3.connect('source.db')\n",
    "    cursor = db.cursor()\n",
    "\n",
    "    # Вывести список товаров с максимальной ценой в каждой группе:\n",
    "    print('Задание № 1:')\n",
    "    cursor.execute('''SELECT \"Группа товаров\", Товар, MAX(Цена) AS \"Максимальная цена\" \n",
    "                    FROM Товары GROUP BY \"Группа товаров\"''')\n",
    "    \n",
    "    for group in cursor.fetchall():\n",
    "        print(group)\n",
    "\n",
    "    # Вывести категорию с минимальным количеством товаров:\n",
    "    print('\\n' + 'Задание № 2:')\n",
    "    cursor.execute('''SELECT Категория, MIN(\"Количество товаров в категории\") AS Количество \n",
    "                    FROM (SELECT Категория, COUNT(Категория) AS \"Количество товаров в категории\" \n",
    "                    FROM (SELECT Категории.Категория \n",
    "                    FROM Товары JOIN Категории ON Товары.\"Код категории\"=Категории.\"Код категории\")\n",
    "                    GROUP BY Категория)''')\n",
    "\n",
    "    print(cursor.fetchall())\n",
    "\n",
    "    # Вывести категорию с максимальной суммой стоимостей товаров:\n",
    "    print('\\n' + 'Задание № 3:')\n",
    "    cursor.execute('''SELECT Категория, MAX(\"Сумма стоимостей товаров\") AS \"Максимальная сумма\" \n",
    "                    FROM (SELECT Категория, SUM(Цена) AS \"Сумма стоимостей товаров\" \n",
    "                    FROM (SELECT Цена, Категории.Категория \n",
    "                    FROM Товары JOIN Категории ON Товары.\"Код категории\"=Категории.\"Код категории\")\n",
    "                    GROUP BY Категория)''')\n",
    "    \n",
    "    print(cursor.fetchall())\n",
    "\n",
    "except sqlite3.Error as error:\n",
    "        print(error)\n",
    "finally:\n",
    "    if db:\n",
    "        db.close()"
   ]
  }
 ],
 "metadata": {
  "kernelspec": {
   "display_name": "Python 3.9.7 ('.venv': venv)",
   "language": "python",
   "name": "python3"
  },
  "language_info": {
   "codemirror_mode": {
    "name": "ipython",
    "version": 3
   },
   "file_extension": ".py",
   "mimetype": "text/x-python",
   "name": "python",
   "nbconvert_exporter": "python",
   "pygments_lexer": "ipython3",
   "version": "3.9.7"
  },
  "orig_nbformat": 4,
  "vscode": {
   "interpreter": {
    "hash": "0d8913c34be7f3dc39b24e940284ce5182c755ef5fe84c13d4dabdab033123b1"
   }
  }
 },
 "nbformat": 4,
 "nbformat_minor": 2
}
