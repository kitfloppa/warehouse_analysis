{
 "cells": [
  {
   "cell_type": "code",
   "execution_count": 1,
   "metadata": {},
   "outputs": [],
   "source": [
    "import os\n",
    "import ast\n",
    "import numpy as np\n",
    "import pandas as pd\n",
    "\n",
    "from matplotlib import pyplot as plt"
   ]
  },
  {
   "cell_type": "markdown",
   "metadata": {},
   "source": [
    "**Скачаем датасет и разархивируем его.**"
   ]
  },
  {
   "cell_type": "code",
   "execution_count": 3,
   "metadata": {},
   "outputs": [],
   "source": [
    "os.mkdir('../data')"
   ]
  },
  {
   "cell_type": "code",
   "execution_count": 4,
   "metadata": {
    "vscode": {
     "languageId": "powershell"
    }
   },
   "outputs": [
    {
     "name": "stdout",
     "output_type": "stream",
     "text": [
      "\n",
      "Saved under ../data/data.zip\n"
     ]
    }
   ],
   "source": [
    "!python -m wget \"https://drive.google.com/u/0/uc?id=1cYj0VMxyLyZsdrXW72fftBGzkCYmfzVU&export=download&confirm=t&uuid=baf858b2-4a0a-4d43-a8b4-e641d57d4431\" -o ../data/data.zip"
   ]
  },
  {
   "cell_type": "code",
   "execution_count": 5,
   "metadata": {
    "vscode": {
     "languageId": "powershell"
    }
   },
   "outputs": [],
   "source": [
    "!python -m zipfile -e ../data/data.zip ../data/"
   ]
  },
  {
   "cell_type": "code",
   "execution_count": 6,
   "metadata": {},
   "outputs": [],
   "source": [
    "os.remove(\"../data/data.zip\")"
   ]
  },
  {
   "cell_type": "markdown",
   "metadata": {},
   "source": [
    "**Считаем данные в pandas.DataFrame**"
   ]
  },
  {
   "cell_type": "code",
   "execution_count": 359,
   "metadata": {},
   "outputs": [],
   "source": [
    "data = pd.read_csv('../data/data.csv')\n",
    "handbook = pd.read_csv('../data/handbook.csv')"
   ]
  },
  {
   "cell_type": "code",
   "execution_count": 360,
   "metadata": {},
   "outputs": [
    {
     "data": {
      "text/html": [
       "<div>\n",
       "<style scoped>\n",
       "    .dataframe tbody tr th:only-of-type {\n",
       "        vertical-align: middle;\n",
       "    }\n",
       "\n",
       "    .dataframe tbody tr th {\n",
       "        vertical-align: top;\n",
       "    }\n",
       "\n",
       "    .dataframe thead th {\n",
       "        text-align: right;\n",
       "    }\n",
       "</style>\n",
       "<table border=\"1\" class=\"dataframe\">\n",
       "  <thead>\n",
       "    <tr style=\"text-align: right;\">\n",
       "      <th></th>\n",
       "      <th>Идентификатор документа</th>\n",
       "      <th>Идентификатор товара</th>\n",
       "      <th>Вид операции документа</th>\n",
       "      <th>Дата документа</th>\n",
       "      <th>Идентификатор филиала</th>\n",
       "    </tr>\n",
       "  </thead>\n",
       "  <tbody>\n",
       "    <tr>\n",
       "      <th>0</th>\n",
       "      <td>b'\\x8f\\x03\\xf0[gd\\xef.P\\xb0\\\\P\\xe8f\\xb6\\x9f'</td>\n",
       "      <td>b'\\xee\\xdf\\xa5\\xb3\\x1f\\xe5\\x81\\x18\\x1e\\x86j\\xe...</td>\n",
       "      <td>Прием товара</td>\n",
       "      <td>2019-01-01</td>\n",
       "      <td>b'\\xe1\\xdb\\xd1\\x95\\x93\\x7f\\x17\\x7f\\xcd\\xea\\x7f...</td>\n",
       "    </tr>\n",
       "    <tr>\n",
       "      <th>1</th>\n",
       "      <td>b'O\\x99\\x903\\x11Zd\\x16\\x8e\\x00\\xafM\\xb8\\x02\\xa...</td>\n",
       "      <td>b'a\\xad\\xa7qJ\\x9eW\\x15&lt;H\\xd5U\\x82\\xc3-\\x04'</td>\n",
       "      <td>Прием товара</td>\n",
       "      <td>2019-01-01</td>\n",
       "      <td>b'\\xca\\xbc\\x12\\xca\\x94?^\\x94B\\x93\\x16\\xd8\\xf7\\...</td>\n",
       "    </tr>\n",
       "    <tr>\n",
       "      <th>2</th>\n",
       "      <td>b'\\xc3y\\xdc\\xf9\\xc9\\xe1\\x0cC\\x13U\\xdby\\xac\\x97...</td>\n",
       "      <td>b'U\\xb8J-\\xa7\\xae\\xe0\\xe2\\x1a.\\x0c\\xaf\\xfe\\x80...</td>\n",
       "      <td>Прием товара</td>\n",
       "      <td>2019-01-01</td>\n",
       "      <td>b']\\xe0\\xf1p\\xff!8x\\xb9\\xea\\xee\\xc2P\\xcb\\xd8\\x93'</td>\n",
       "    </tr>\n",
       "    <tr>\n",
       "      <th>3</th>\n",
       "      <td>b'9\\xf4D`\\x00\\xf0\\x00\\xe3\\xa8=\\xea=N$\\xf2\\xc9'</td>\n",
       "      <td>b'\\xf0\\x8a\\x8f\\xe5\\xb1\\xd4\\xd8\\xbd\\xcc\\xb8\\x1d...</td>\n",
       "      <td>Прием товара</td>\n",
       "      <td>2019-01-01</td>\n",
       "      <td>b'\\x1eF\\xdfq\\x18\\xc5\\x8c\\x19\\xd5\\x014\\xd7\\xef\\...</td>\n",
       "    </tr>\n",
       "    <tr>\n",
       "      <th>4</th>\n",
       "      <td>b'\\x10\\x0b?\\xd9ehT\\x181\\xed\\xdd}\\x1c(\\x98`'</td>\n",
       "      <td>b'\\x10\\xf0\\x9c\\xf6\\xd2\\x9d\\xde\\xc08\\xde\\xa74u\\...</td>\n",
       "      <td>Прием товара</td>\n",
       "      <td>2019-01-01</td>\n",
       "      <td>b'\\xfd,{d\\x07\"\\x8c\\x0eT\\x997\\xdcS\\x82\\xac\\xcd'</td>\n",
       "    </tr>\n",
       "  </tbody>\n",
       "</table>\n",
       "</div>"
      ],
      "text/plain": [
       "                             Идентификатор документа  \\\n",
       "0       b'\\x8f\\x03\\xf0[gd\\xef.P\\xb0\\\\P\\xe8f\\xb6\\x9f'   \n",
       "1  b'O\\x99\\x903\\x11Zd\\x16\\x8e\\x00\\xafM\\xb8\\x02\\xa...   \n",
       "2  b'\\xc3y\\xdc\\xf9\\xc9\\xe1\\x0cC\\x13U\\xdby\\xac\\x97...   \n",
       "3     b'9\\xf4D`\\x00\\xf0\\x00\\xe3\\xa8=\\xea=N$\\xf2\\xc9'   \n",
       "4        b'\\x10\\x0b?\\xd9ehT\\x181\\xed\\xdd}\\x1c(\\x98`'   \n",
       "\n",
       "                                Идентификатор товара Вид операции документа  \\\n",
       "0  b'\\xee\\xdf\\xa5\\xb3\\x1f\\xe5\\x81\\x18\\x1e\\x86j\\xe...           Прием товара   \n",
       "1        b'a\\xad\\xa7qJ\\x9eW\\x15<H\\xd5U\\x82\\xc3-\\x04'           Прием товара   \n",
       "2  b'U\\xb8J-\\xa7\\xae\\xe0\\xe2\\x1a.\\x0c\\xaf\\xfe\\x80...           Прием товара   \n",
       "3  b'\\xf0\\x8a\\x8f\\xe5\\xb1\\xd4\\xd8\\xbd\\xcc\\xb8\\x1d...           Прием товара   \n",
       "4  b'\\x10\\xf0\\x9c\\xf6\\xd2\\x9d\\xde\\xc08\\xde\\xa74u\\...           Прием товара   \n",
       "\n",
       "  Дата документа                              Идентификатор филиала  \n",
       "0     2019-01-01  b'\\xe1\\xdb\\xd1\\x95\\x93\\x7f\\x17\\x7f\\xcd\\xea\\x7f...  \n",
       "1     2019-01-01  b'\\xca\\xbc\\x12\\xca\\x94?^\\x94B\\x93\\x16\\xd8\\xf7\\...  \n",
       "2     2019-01-01  b']\\xe0\\xf1p\\xff!8x\\xb9\\xea\\xee\\xc2P\\xcb\\xd8\\x93'  \n",
       "3     2019-01-01  b'\\x1eF\\xdfq\\x18\\xc5\\x8c\\x19\\xd5\\x014\\xd7\\xef\\...  \n",
       "4     2019-01-01     b'\\xfd,{d\\x07\"\\x8c\\x0eT\\x997\\xdcS\\x82\\xac\\xcd'  "
      ]
     },
     "execution_count": 360,
     "metadata": {},
     "output_type": "execute_result"
    }
   ],
   "source": [
    "data.rename(columns={'Идентификатор филиалы документа': 'Идентификатор филиала'}, inplace=True)\n",
    "data.head(5)"
   ]
  },
  {
   "cell_type": "code",
   "execution_count": 361,
   "metadata": {},
   "outputs": [
    {
     "data": {
      "text/html": [
       "<div>\n",
       "<style scoped>\n",
       "    .dataframe tbody tr th:only-of-type {\n",
       "        vertical-align: middle;\n",
       "    }\n",
       "\n",
       "    .dataframe tbody tr th {\n",
       "        vertical-align: top;\n",
       "    }\n",
       "\n",
       "    .dataframe thead th {\n",
       "        text-align: right;\n",
       "    }\n",
       "</style>\n",
       "<table border=\"1\" class=\"dataframe\">\n",
       "  <thead>\n",
       "    <tr style=\"text-align: right;\">\n",
       "      <th></th>\n",
       "      <th>Наименование филиала</th>\n",
       "      <th>Наименование региона</th>\n",
       "      <th>Идентификатор филиала</th>\n",
       "    </tr>\n",
       "  </thead>\n",
       "  <tbody>\n",
       "    <tr>\n",
       "      <th>0</th>\n",
       "      <td>Казань СЦ на Чистопольской</td>\n",
       "      <td>Верхняя Волга</td>\n",
       "      <td>b'U\\x8b\\xecN\\xb5\\xe4\\x02+\\xcf\\x9cT\"ivr\\n'</td>\n",
       "    </tr>\n",
       "    <tr>\n",
       "      <th>1</th>\n",
       "      <td>Воткинск СЦ</td>\n",
       "      <td>Верхняя Волга</td>\n",
       "      <td>b'\\xb5Mv\\xe3\\x86\\xc3\\x9a\\x0b\\x10\\xb2\\xba\\xfa\\x...</td>\n",
       "    </tr>\n",
       "    <tr>\n",
       "      <th>2</th>\n",
       "      <td>Чистополь СЦ</td>\n",
       "      <td>Верхняя Волга</td>\n",
       "      <td>b'\\xfd,{d\\x07\"\\x8c\\x0eT\\x997\\xdcS\\x82\\xac\\xcd'</td>\n",
       "    </tr>\n",
       "    <tr>\n",
       "      <th>3</th>\n",
       "      <td>Тверь СЦ</td>\n",
       "      <td>Центральный</td>\n",
       "      <td>b'\\xe4\\x04!)\\xa7l\\xb0B#=i\\xf8\\x89\\x1a\\x8b\\x1f'</td>\n",
       "    </tr>\n",
       "    <tr>\n",
       "      <th>4</th>\n",
       "      <td>Рославль СЦ</td>\n",
       "      <td>Черноземье</td>\n",
       "      <td>b'\\xb85\\xa2\\xe7\\x1b\\x8d\\xd5\\xff\\x0bd&gt;\\xdcR:\\xd...</td>\n",
       "    </tr>\n",
       "  </tbody>\n",
       "</table>\n",
       "</div>"
      ],
      "text/plain": [
       "         Наименование филиала Наименование региона  \\\n",
       "0  Казань СЦ на Чистопольской        Верхняя Волга   \n",
       "1                 Воткинск СЦ        Верхняя Волга   \n",
       "2                Чистополь СЦ        Верхняя Волга   \n",
       "3                    Тверь СЦ          Центральный   \n",
       "4                 Рославль СЦ           Черноземье   \n",
       "\n",
       "                               Идентификатор филиала  \n",
       "0          b'U\\x8b\\xecN\\xb5\\xe4\\x02+\\xcf\\x9cT\"ivr\\n'  \n",
       "1  b'\\xb5Mv\\xe3\\x86\\xc3\\x9a\\x0b\\x10\\xb2\\xba\\xfa\\x...  \n",
       "2     b'\\xfd,{d\\x07\"\\x8c\\x0eT\\x997\\xdcS\\x82\\xac\\xcd'  \n",
       "3     b'\\xe4\\x04!)\\xa7l\\xb0B#=i\\xf8\\x89\\x1a\\x8b\\x1f'  \n",
       "4  b'\\xb85\\xa2\\xe7\\x1b\\x8d\\xd5\\xff\\x0bd>\\xdcR:\\xd...  "
      ]
     },
     "execution_count": 361,
     "metadata": {},
     "output_type": "execute_result"
    }
   ],
   "source": [
    "handbook.rename(columns={'Наименование региона филиала': 'Наименование региона'}, inplace=True)\n",
    "handbook.head(5)"
   ]
  },
  {
   "cell_type": "markdown",
   "metadata": {},
   "source": [
    "**Для удобства:**"
   ]
  },
  {
   "cell_type": "code",
   "execution_count": 362,
   "metadata": {},
   "outputs": [],
   "source": [
    "doc_id = 'Идентификатор документа'\n",
    "prod_id = 'Идентификатор товара'\n",
    "filial_id = 'Идентификатор филиала'\n",
    "\n",
    "doc_date = 'Дата документа'\n",
    "\n",
    "months = 'Месяцы'\n",
    "weeks = 'Недели'\n",
    "days = 'Дни'\n",
    "\n",
    "region_name = 'Наименование региона'"
   ]
  },
  {
   "cell_type": "markdown",
   "metadata": {},
   "source": [
    "**Видим, что идентификаторы записаны в виде строк байт.**\n",
    "\n",
    "Их можно преобразовать в следующий вид:"
   ]
  },
  {
   "cell_type": "code",
   "execution_count": 363,
   "metadata": {},
   "outputs": [
    {
     "name": "stdout",
     "output_type": "stream",
     "text": [
      "190100055307885217600600356315355068063 или 212294336569639092776542131814963086223\n"
     ]
    }
   ],
   "source": [
    "identifier = ast.literal_eval(data[doc_id][0])\n",
    "\n",
    "big = int.from_bytes(identifier, 'big')\n",
    "little = int.from_bytes(identifier, 'little')\n",
    "\n",
    "print(big, 'или', little)"
   ]
  },
  {
   "cell_type": "markdown",
   "metadata": {},
   "source": [
    "**Но для выполнения задания это не обязательно, лучше преобразуем столбец с датой документов в datetime.**"
   ]
  },
  {
   "cell_type": "code",
   "execution_count": 364,
   "metadata": {},
   "outputs": [],
   "source": [
    "data[doc_date] = pd.to_datetime(data[doc_date])"
   ]
  },
  {
   "cell_type": "markdown",
   "metadata": {},
   "source": [
    "**Заметим, что у нас есть дата приёма и выдачи товара, зная эту информацию можно рассчитать время хранения товара в сервисном центре.**\n",
    "\n",
    "Сгруппируем данные по идентификатору товара и выберем дату документа, тем самым получим дату приема и выдачи для каждого товара.\n",
    "\n",
    "Также возьмём идентификатор филиала, он нам понадобится. (идентификатор филиала для каждого товара единственный)"
   ]
  },
  {
   "cell_type": "code",
   "execution_count": 365,
   "metadata": {},
   "outputs": [],
   "source": [
    "# Сгруппируем данные с помощью pandas\n",
    "\n",
    "filials = data.groupby(prod_id)[filial_id].unique().apply(list)\n",
    "storage_time = data.groupby(prod_id)[doc_date].apply(list)\n",
    "\n",
    "storage_time = pd.concat([storage_time, filials], axis=1)"
   ]
  },
  {
   "cell_type": "markdown",
   "metadata": {},
   "source": [
    "**Заметим, что группировка выполняется долго. (около 2-3 минут)**\n",
    "\n",
    "Сделаем алгоритм побыстрее: "
   ]
  },
  {
   "cell_type": "code",
   "execution_count": 366,
   "metadata": {},
   "outputs": [],
   "source": [
    "from collections import defaultdict\n",
    "\n",
    "storage_time, filials = defaultdict(list), {}\n",
    "\n",
    "for row in data[[prod_id, doc_date, filial_id]].values:\n",
    "    storage_time[row[0]].append(row[1])\n",
    "    filials[row[0]] = row[2]"
   ]
  },
  {
   "cell_type": "markdown",
   "metadata": {},
   "source": [
    "**Создадим новый pandas.DataFrame с которым будем работать в дальнейшем.**"
   ]
  },
  {
   "cell_type": "code",
   "execution_count": 367,
   "metadata": {},
   "outputs": [],
   "source": [
    "storage_time = pd.DataFrame(storage_time.items(), columns=[prod_id, doc_date])\n",
    "storage_time[filial_id] = storage_time[prod_id].map(filials)"
   ]
  },
  {
   "cell_type": "code",
   "execution_count": 368,
   "metadata": {},
   "outputs": [
    {
     "data": {
      "text/html": [
       "<div>\n",
       "<style scoped>\n",
       "    .dataframe tbody tr th:only-of-type {\n",
       "        vertical-align: middle;\n",
       "    }\n",
       "\n",
       "    .dataframe tbody tr th {\n",
       "        vertical-align: top;\n",
       "    }\n",
       "\n",
       "    .dataframe thead th {\n",
       "        text-align: right;\n",
       "    }\n",
       "</style>\n",
       "<table border=\"1\" class=\"dataframe\">\n",
       "  <thead>\n",
       "    <tr style=\"text-align: right;\">\n",
       "      <th></th>\n",
       "      <th>Идентификатор товара</th>\n",
       "      <th>Дата документа</th>\n",
       "      <th>Идентификатор филиала</th>\n",
       "    </tr>\n",
       "  </thead>\n",
       "  <tbody>\n",
       "    <tr>\n",
       "      <th>0</th>\n",
       "      <td>b'\\xee\\xdf\\xa5\\xb3\\x1f\\xe5\\x81\\x18\\x1e\\x86j\\xe...</td>\n",
       "      <td>[2019-01-01 00:00:00, 2019-01-20 00:00:00]</td>\n",
       "      <td>b'\\xe1\\xdb\\xd1\\x95\\x93\\x7f\\x17\\x7f\\xcd\\xea\\x7f...</td>\n",
       "    </tr>\n",
       "    <tr>\n",
       "      <th>1</th>\n",
       "      <td>b'a\\xad\\xa7qJ\\x9eW\\x15&lt;H\\xd5U\\x82\\xc3-\\x04'</td>\n",
       "      <td>[2019-01-01 00:00:00, 2019-01-18 00:00:00]</td>\n",
       "      <td>b'\\xca\\xbc\\x12\\xca\\x94?^\\x94B\\x93\\x16\\xd8\\xf7\\...</td>\n",
       "    </tr>\n",
       "    <tr>\n",
       "      <th>2</th>\n",
       "      <td>b'U\\xb8J-\\xa7\\xae\\xe0\\xe2\\x1a.\\x0c\\xaf\\xfe\\x80...</td>\n",
       "      <td>[2019-01-01 00:00:00, 2019-02-04 00:00:00]</td>\n",
       "      <td>b']\\xe0\\xf1p\\xff!8x\\xb9\\xea\\xee\\xc2P\\xcb\\xd8\\x93'</td>\n",
       "    </tr>\n",
       "    <tr>\n",
       "      <th>3</th>\n",
       "      <td>b'\\xf0\\x8a\\x8f\\xe5\\xb1\\xd4\\xd8\\xbd\\xcc\\xb8\\x1d...</td>\n",
       "      <td>[2019-01-01 00:00:00, 2019-01-27 00:00:00]</td>\n",
       "      <td>b'\\x1eF\\xdfq\\x18\\xc5\\x8c\\x19\\xd5\\x014\\xd7\\xef\\...</td>\n",
       "    </tr>\n",
       "    <tr>\n",
       "      <th>4</th>\n",
       "      <td>b'\\x10\\xf0\\x9c\\xf6\\xd2\\x9d\\xde\\xc08\\xde\\xa74u\\...</td>\n",
       "      <td>[2019-01-01 00:00:00, 2019-01-09 00:00:00]</td>\n",
       "      <td>b'\\xfd,{d\\x07\"\\x8c\\x0eT\\x997\\xdcS\\x82\\xac\\xcd'</td>\n",
       "    </tr>\n",
       "  </tbody>\n",
       "</table>\n",
       "</div>"
      ],
      "text/plain": [
       "                                Идентификатор товара  \\\n",
       "0  b'\\xee\\xdf\\xa5\\xb3\\x1f\\xe5\\x81\\x18\\x1e\\x86j\\xe...   \n",
       "1        b'a\\xad\\xa7qJ\\x9eW\\x15<H\\xd5U\\x82\\xc3-\\x04'   \n",
       "2  b'U\\xb8J-\\xa7\\xae\\xe0\\xe2\\x1a.\\x0c\\xaf\\xfe\\x80...   \n",
       "3  b'\\xf0\\x8a\\x8f\\xe5\\xb1\\xd4\\xd8\\xbd\\xcc\\xb8\\x1d...   \n",
       "4  b'\\x10\\xf0\\x9c\\xf6\\xd2\\x9d\\xde\\xc08\\xde\\xa74u\\...   \n",
       "\n",
       "                               Дата документа  \\\n",
       "0  [2019-01-01 00:00:00, 2019-01-20 00:00:00]   \n",
       "1  [2019-01-01 00:00:00, 2019-01-18 00:00:00]   \n",
       "2  [2019-01-01 00:00:00, 2019-02-04 00:00:00]   \n",
       "3  [2019-01-01 00:00:00, 2019-01-27 00:00:00]   \n",
       "4  [2019-01-01 00:00:00, 2019-01-09 00:00:00]   \n",
       "\n",
       "                               Идентификатор филиала  \n",
       "0  b'\\xe1\\xdb\\xd1\\x95\\x93\\x7f\\x17\\x7f\\xcd\\xea\\x7f...  \n",
       "1  b'\\xca\\xbc\\x12\\xca\\x94?^\\x94B\\x93\\x16\\xd8\\xf7\\...  \n",
       "2  b']\\xe0\\xf1p\\xff!8x\\xb9\\xea\\xee\\xc2P\\xcb\\xd8\\x93'  \n",
       "3  b'\\x1eF\\xdfq\\x18\\xc5\\x8c\\x19\\xd5\\x014\\xd7\\xef\\...  \n",
       "4     b'\\xfd,{d\\x07\"\\x8c\\x0eT\\x997\\xdcS\\x82\\xac\\xcd'  "
      ]
     },
     "execution_count": 368,
     "metadata": {},
     "output_type": "execute_result"
    }
   ],
   "source": [
    "storage_time.head(5)"
   ]
  },
  {
   "cell_type": "markdown",
   "metadata": {},
   "source": [
    "**Так как у нас есть товар, у которого нет операции выдачи, то будем считать, что товар хранится до сегодняшнего дня.**\n",
    "\n",
    "Конечно, можно игнорировать товар у которого нет документа о выдачи и считать, что он не подлежит выдачи, но это нужно обговорить."
   ]
  },
  {
   "cell_type": "code",
   "execution_count": 369,
   "metadata": {},
   "outputs": [
    {
     "data": {
      "text/html": [
       "<div>\n",
       "<style scoped>\n",
       "    .dataframe tbody tr th:only-of-type {\n",
       "        vertical-align: middle;\n",
       "    }\n",
       "\n",
       "    .dataframe tbody tr th {\n",
       "        vertical-align: top;\n",
       "    }\n",
       "\n",
       "    .dataframe thead th {\n",
       "        text-align: right;\n",
       "    }\n",
       "</style>\n",
       "<table border=\"1\" class=\"dataframe\">\n",
       "  <thead>\n",
       "    <tr style=\"text-align: right;\">\n",
       "      <th></th>\n",
       "      <th>Идентификатор товара</th>\n",
       "      <th>Дата документа</th>\n",
       "      <th>Идентификатор филиала</th>\n",
       "    </tr>\n",
       "  </thead>\n",
       "  <tbody>\n",
       "    <tr>\n",
       "      <th>0</th>\n",
       "      <td>b'\\xee\\xdf\\xa5\\xb3\\x1f\\xe5\\x81\\x18\\x1e\\x86j\\xe...</td>\n",
       "      <td>[2019-01-01 00:00:00, 2019-01-20 00:00:00]</td>\n",
       "      <td>b'\\xe1\\xdb\\xd1\\x95\\x93\\x7f\\x17\\x7f\\xcd\\xea\\x7f...</td>\n",
       "    </tr>\n",
       "    <tr>\n",
       "      <th>1</th>\n",
       "      <td>b'a\\xad\\xa7qJ\\x9eW\\x15&lt;H\\xd5U\\x82\\xc3-\\x04'</td>\n",
       "      <td>[2019-01-01 00:00:00, 2019-01-18 00:00:00]</td>\n",
       "      <td>b'\\xca\\xbc\\x12\\xca\\x94?^\\x94B\\x93\\x16\\xd8\\xf7\\...</td>\n",
       "    </tr>\n",
       "    <tr>\n",
       "      <th>2</th>\n",
       "      <td>b'U\\xb8J-\\xa7\\xae\\xe0\\xe2\\x1a.\\x0c\\xaf\\xfe\\x80...</td>\n",
       "      <td>[2019-01-01 00:00:00, 2019-02-04 00:00:00]</td>\n",
       "      <td>b']\\xe0\\xf1p\\xff!8x\\xb9\\xea\\xee\\xc2P\\xcb\\xd8\\x93'</td>\n",
       "    </tr>\n",
       "    <tr>\n",
       "      <th>3</th>\n",
       "      <td>b'\\xf0\\x8a\\x8f\\xe5\\xb1\\xd4\\xd8\\xbd\\xcc\\xb8\\x1d...</td>\n",
       "      <td>[2019-01-01 00:00:00, 2019-01-27 00:00:00]</td>\n",
       "      <td>b'\\x1eF\\xdfq\\x18\\xc5\\x8c\\x19\\xd5\\x014\\xd7\\xef\\...</td>\n",
       "    </tr>\n",
       "    <tr>\n",
       "      <th>4</th>\n",
       "      <td>b'\\x10\\xf0\\x9c\\xf6\\xd2\\x9d\\xde\\xc08\\xde\\xa74u\\...</td>\n",
       "      <td>[2019-01-01 00:00:00, 2019-01-09 00:00:00]</td>\n",
       "      <td>b'\\xfd,{d\\x07\"\\x8c\\x0eT\\x997\\xdcS\\x82\\xac\\xcd'</td>\n",
       "    </tr>\n",
       "    <tr>\n",
       "      <th>...</th>\n",
       "      <td>...</td>\n",
       "      <td>...</td>\n",
       "      <td>...</td>\n",
       "    </tr>\n",
       "    <tr>\n",
       "      <th>1499780</th>\n",
       "      <td>b'\\xa5p\\xcb\\xf8\\xed\\xbc\\x94&lt;\\x17w\\x98}\\x18UQ\\x84'</td>\n",
       "      <td>[2019-12-31 00:00:00, 2022-08-13]</td>\n",
       "      <td>b'tt\\xc7\\xd0\\x03\\xe0RT\\x89n\\x18u]N\\x00C'</td>\n",
       "    </tr>\n",
       "    <tr>\n",
       "      <th>1499781</th>\n",
       "      <td>b'&gt;\\xeey\\xe9%o\\xd4Y/\\xef\"S\\x01\\xfal\\xd3'</td>\n",
       "      <td>[2019-12-31 00:00:00, 2022-08-13]</td>\n",
       "      <td>b'\\xa0\\xdcn\\xfa\\xa0zwv&lt;*\\x8b\\n\\x13\\x8c!\\xd5'</td>\n",
       "    </tr>\n",
       "    <tr>\n",
       "      <th>1499782</th>\n",
       "      <td>b\"4\\xbe\\xdf\\xdc\\n\\xf4b\\x9ay\\xb1\\x8c'\\xd5\\xa8\\x...</td>\n",
       "      <td>[2019-12-31 00:00:00, 2022-08-13]</td>\n",
       "      <td>b'\\xaa\\xd7G\\x1e\\x96\\xdb\\xb1\\xea\\xc0\\xd6\\xc6\\xd...</td>\n",
       "    </tr>\n",
       "    <tr>\n",
       "      <th>1499783</th>\n",
       "      <td>b'\\x89\\x8df\\x02\\x8d\\xc2(\\xc9\\x17M4\\xb9\\xe9\\x9a...</td>\n",
       "      <td>[2019-12-31 00:00:00, 2022-08-13]</td>\n",
       "      <td>b'_\\xc8\\xf5\\xdd\\xb5\\xf8\\xddn\\xcb\\x05\\xf4\\x1d\\x...</td>\n",
       "    </tr>\n",
       "    <tr>\n",
       "      <th>1499784</th>\n",
       "      <td>b'\\xd9\\x03\\x83As\\x03,\\r\\xd2\\xadg\\xf7\\xd7\\x0f\\x...</td>\n",
       "      <td>[2019-12-31 00:00:00, 2022-08-13]</td>\n",
       "      <td>b']t\\x81\\xa1\\x03r[\\xb1\\xa5\\r\\xd9.\\x15:\\xe9\\xb3'</td>\n",
       "    </tr>\n",
       "  </tbody>\n",
       "</table>\n",
       "<p>1499785 rows × 3 columns</p>\n",
       "</div>"
      ],
      "text/plain": [
       "                                      Идентификатор товара  \\\n",
       "0        b'\\xee\\xdf\\xa5\\xb3\\x1f\\xe5\\x81\\x18\\x1e\\x86j\\xe...   \n",
       "1              b'a\\xad\\xa7qJ\\x9eW\\x15<H\\xd5U\\x82\\xc3-\\x04'   \n",
       "2        b'U\\xb8J-\\xa7\\xae\\xe0\\xe2\\x1a.\\x0c\\xaf\\xfe\\x80...   \n",
       "3        b'\\xf0\\x8a\\x8f\\xe5\\xb1\\xd4\\xd8\\xbd\\xcc\\xb8\\x1d...   \n",
       "4        b'\\x10\\xf0\\x9c\\xf6\\xd2\\x9d\\xde\\xc08\\xde\\xa74u\\...   \n",
       "...                                                    ...   \n",
       "1499780  b'\\xa5p\\xcb\\xf8\\xed\\xbc\\x94<\\x17w\\x98}\\x18UQ\\x84'   \n",
       "1499781           b'>\\xeey\\xe9%o\\xd4Y/\\xef\"S\\x01\\xfal\\xd3'   \n",
       "1499782  b\"4\\xbe\\xdf\\xdc\\n\\xf4b\\x9ay\\xb1\\x8c'\\xd5\\xa8\\x...   \n",
       "1499783  b'\\x89\\x8df\\x02\\x8d\\xc2(\\xc9\\x17M4\\xb9\\xe9\\x9a...   \n",
       "1499784  b'\\xd9\\x03\\x83As\\x03,\\r\\xd2\\xadg\\xf7\\xd7\\x0f\\x...   \n",
       "\n",
       "                                     Дата документа  \\\n",
       "0        [2019-01-01 00:00:00, 2019-01-20 00:00:00]   \n",
       "1        [2019-01-01 00:00:00, 2019-01-18 00:00:00]   \n",
       "2        [2019-01-01 00:00:00, 2019-02-04 00:00:00]   \n",
       "3        [2019-01-01 00:00:00, 2019-01-27 00:00:00]   \n",
       "4        [2019-01-01 00:00:00, 2019-01-09 00:00:00]   \n",
       "...                                             ...   \n",
       "1499780           [2019-12-31 00:00:00, 2022-08-13]   \n",
       "1499781           [2019-12-31 00:00:00, 2022-08-13]   \n",
       "1499782           [2019-12-31 00:00:00, 2022-08-13]   \n",
       "1499783           [2019-12-31 00:00:00, 2022-08-13]   \n",
       "1499784           [2019-12-31 00:00:00, 2022-08-13]   \n",
       "\n",
       "                                     Идентификатор филиала  \n",
       "0        b'\\xe1\\xdb\\xd1\\x95\\x93\\x7f\\x17\\x7f\\xcd\\xea\\x7f...  \n",
       "1        b'\\xca\\xbc\\x12\\xca\\x94?^\\x94B\\x93\\x16\\xd8\\xf7\\...  \n",
       "2        b']\\xe0\\xf1p\\xff!8x\\xb9\\xea\\xee\\xc2P\\xcb\\xd8\\x93'  \n",
       "3        b'\\x1eF\\xdfq\\x18\\xc5\\x8c\\x19\\xd5\\x014\\xd7\\xef\\...  \n",
       "4           b'\\xfd,{d\\x07\"\\x8c\\x0eT\\x997\\xdcS\\x82\\xac\\xcd'  \n",
       "...                                                    ...  \n",
       "1499780           b'tt\\xc7\\xd0\\x03\\xe0RT\\x89n\\x18u]N\\x00C'  \n",
       "1499781       b'\\xa0\\xdcn\\xfa\\xa0zwv<*\\x8b\\n\\x13\\x8c!\\xd5'  \n",
       "1499782  b'\\xaa\\xd7G\\x1e\\x96\\xdb\\xb1\\xea\\xc0\\xd6\\xc6\\xd...  \n",
       "1499783  b'_\\xc8\\xf5\\xdd\\xb5\\xf8\\xddn\\xcb\\x05\\xf4\\x1d\\x...  \n",
       "1499784    b']t\\x81\\xa1\\x03r[\\xb1\\xa5\\r\\xd9.\\x15:\\xe9\\xb3'  \n",
       "\n",
       "[1499785 rows x 3 columns]"
      ]
     },
     "execution_count": 369,
     "metadata": {},
     "output_type": "execute_result"
    }
   ],
   "source": [
    "storage_time.loc[(storage_time[doc_date].agg(len) == 1), doc_date].agg(lambda x: x.append(np.datetime64('today')))\n",
    "storage_time"
   ]
  },
  {
   "cell_type": "markdown",
   "metadata": {},
   "source": [
    "**Вычислим сколько дней, недель и месяцев товар пробыл в сервисном центре.**\n",
    "\n",
    "Считаем недели и месяцы с дробной частью для более точной интерпретации."
   ]
  },
  {
   "cell_type": "code",
   "execution_count": 370,
   "metadata": {},
   "outputs": [],
   "source": [
    "storage_time[days] = storage_time[doc_date].apply(lambda x: x[1] - x[0])\n",
    "\n",
    "storage_time[weeks] = storage_time[days] / np.timedelta64(7, 'D')\n",
    "storage_time[months] = storage_time[days] / np.timedelta64(31, 'D')\n",
    "storage_time[days] = (storage_time[days] / np.timedelta64(1, 'D'))\n",
    "\n",
    "storage_time = storage_time.drop(doc_date, axis=1)"
   ]
  },
  {
   "cell_type": "code",
   "execution_count": 371,
   "metadata": {},
   "outputs": [
    {
     "data": {
      "text/html": [
       "<div>\n",
       "<style scoped>\n",
       "    .dataframe tbody tr th:only-of-type {\n",
       "        vertical-align: middle;\n",
       "    }\n",
       "\n",
       "    .dataframe tbody tr th {\n",
       "        vertical-align: top;\n",
       "    }\n",
       "\n",
       "    .dataframe thead th {\n",
       "        text-align: right;\n",
       "    }\n",
       "</style>\n",
       "<table border=\"1\" class=\"dataframe\">\n",
       "  <thead>\n",
       "    <tr style=\"text-align: right;\">\n",
       "      <th></th>\n",
       "      <th>Идентификатор товара</th>\n",
       "      <th>Идентификатор филиала</th>\n",
       "      <th>Дни</th>\n",
       "      <th>Недели</th>\n",
       "      <th>Месяцы</th>\n",
       "    </tr>\n",
       "  </thead>\n",
       "  <tbody>\n",
       "    <tr>\n",
       "      <th>0</th>\n",
       "      <td>b'\\xee\\xdf\\xa5\\xb3\\x1f\\xe5\\x81\\x18\\x1e\\x86j\\xe...</td>\n",
       "      <td>b'\\xe1\\xdb\\xd1\\x95\\x93\\x7f\\x17\\x7f\\xcd\\xea\\x7f...</td>\n",
       "      <td>19.0</td>\n",
       "      <td>2.714286</td>\n",
       "      <td>0.612903</td>\n",
       "    </tr>\n",
       "    <tr>\n",
       "      <th>1</th>\n",
       "      <td>b'a\\xad\\xa7qJ\\x9eW\\x15&lt;H\\xd5U\\x82\\xc3-\\x04'</td>\n",
       "      <td>b'\\xca\\xbc\\x12\\xca\\x94?^\\x94B\\x93\\x16\\xd8\\xf7\\...</td>\n",
       "      <td>17.0</td>\n",
       "      <td>2.428571</td>\n",
       "      <td>0.548387</td>\n",
       "    </tr>\n",
       "    <tr>\n",
       "      <th>2</th>\n",
       "      <td>b'U\\xb8J-\\xa7\\xae\\xe0\\xe2\\x1a.\\x0c\\xaf\\xfe\\x80...</td>\n",
       "      <td>b']\\xe0\\xf1p\\xff!8x\\xb9\\xea\\xee\\xc2P\\xcb\\xd8\\x93'</td>\n",
       "      <td>34.0</td>\n",
       "      <td>4.857143</td>\n",
       "      <td>1.096774</td>\n",
       "    </tr>\n",
       "    <tr>\n",
       "      <th>3</th>\n",
       "      <td>b'\\xf0\\x8a\\x8f\\xe5\\xb1\\xd4\\xd8\\xbd\\xcc\\xb8\\x1d...</td>\n",
       "      <td>b'\\x1eF\\xdfq\\x18\\xc5\\x8c\\x19\\xd5\\x014\\xd7\\xef\\...</td>\n",
       "      <td>26.0</td>\n",
       "      <td>3.714286</td>\n",
       "      <td>0.838710</td>\n",
       "    </tr>\n",
       "    <tr>\n",
       "      <th>4</th>\n",
       "      <td>b'\\x10\\xf0\\x9c\\xf6\\xd2\\x9d\\xde\\xc08\\xde\\xa74u\\...</td>\n",
       "      <td>b'\\xfd,{d\\x07\"\\x8c\\x0eT\\x997\\xdcS\\x82\\xac\\xcd'</td>\n",
       "      <td>8.0</td>\n",
       "      <td>1.142857</td>\n",
       "      <td>0.258065</td>\n",
       "    </tr>\n",
       "  </tbody>\n",
       "</table>\n",
       "</div>"
      ],
      "text/plain": [
       "                                Идентификатор товара  \\\n",
       "0  b'\\xee\\xdf\\xa5\\xb3\\x1f\\xe5\\x81\\x18\\x1e\\x86j\\xe...   \n",
       "1        b'a\\xad\\xa7qJ\\x9eW\\x15<H\\xd5U\\x82\\xc3-\\x04'   \n",
       "2  b'U\\xb8J-\\xa7\\xae\\xe0\\xe2\\x1a.\\x0c\\xaf\\xfe\\x80...   \n",
       "3  b'\\xf0\\x8a\\x8f\\xe5\\xb1\\xd4\\xd8\\xbd\\xcc\\xb8\\x1d...   \n",
       "4  b'\\x10\\xf0\\x9c\\xf6\\xd2\\x9d\\xde\\xc08\\xde\\xa74u\\...   \n",
       "\n",
       "                               Идентификатор филиала   Дни    Недели    Месяцы  \n",
       "0  b'\\xe1\\xdb\\xd1\\x95\\x93\\x7f\\x17\\x7f\\xcd\\xea\\x7f...  19.0  2.714286  0.612903  \n",
       "1  b'\\xca\\xbc\\x12\\xca\\x94?^\\x94B\\x93\\x16\\xd8\\xf7\\...  17.0  2.428571  0.548387  \n",
       "2  b']\\xe0\\xf1p\\xff!8x\\xb9\\xea\\xee\\xc2P\\xcb\\xd8\\x93'  34.0  4.857143  1.096774  \n",
       "3  b'\\x1eF\\xdfq\\x18\\xc5\\x8c\\x19\\xd5\\x014\\xd7\\xef\\...  26.0  3.714286  0.838710  \n",
       "4     b'\\xfd,{d\\x07\"\\x8c\\x0eT\\x997\\xdcS\\x82\\xac\\xcd'   8.0  1.142857  0.258065  "
      ]
     },
     "execution_count": 371,
     "metadata": {},
     "output_type": "execute_result"
    }
   ],
   "source": [
    "storage_time.head(5)"
   ]
  },
  {
   "cell_type": "markdown",
   "metadata": {},
   "source": [
    "**Объединим pandas.DataFrame по идентификатору филиала.**"
   ]
  },
  {
   "cell_type": "code",
   "execution_count": 372,
   "metadata": {},
   "outputs": [
    {
     "data": {
      "text/html": [
       "<div>\n",
       "<style scoped>\n",
       "    .dataframe tbody tr th:only-of-type {\n",
       "        vertical-align: middle;\n",
       "    }\n",
       "\n",
       "    .dataframe tbody tr th {\n",
       "        vertical-align: top;\n",
       "    }\n",
       "\n",
       "    .dataframe thead th {\n",
       "        text-align: right;\n",
       "    }\n",
       "</style>\n",
       "<table border=\"1\" class=\"dataframe\">\n",
       "  <thead>\n",
       "    <tr style=\"text-align: right;\">\n",
       "      <th></th>\n",
       "      <th>Идентификатор товара</th>\n",
       "      <th>Идентификатор филиала</th>\n",
       "      <th>Дни</th>\n",
       "      <th>Недели</th>\n",
       "      <th>Месяцы</th>\n",
       "      <th>Наименование филиала</th>\n",
       "      <th>Наименование региона</th>\n",
       "    </tr>\n",
       "  </thead>\n",
       "  <tbody>\n",
       "    <tr>\n",
       "      <th>0</th>\n",
       "      <td>b'\\xee\\xdf\\xa5\\xb3\\x1f\\xe5\\x81\\x18\\x1e\\x86j\\xe...</td>\n",
       "      <td>b'\\xe1\\xdb\\xd1\\x95\\x93\\x7f\\x17\\x7f\\xcd\\xea\\x7f...</td>\n",
       "      <td>19.0</td>\n",
       "      <td>2.714286</td>\n",
       "      <td>0.612903</td>\n",
       "      <td>Невинномысск СЦ</td>\n",
       "      <td>Юг</td>\n",
       "    </tr>\n",
       "    <tr>\n",
       "      <th>1</th>\n",
       "      <td>b'\\xe4\\xc6M\\x06q,6K\\x0c53\\xf0\\x8d\\xaa\\x92E'</td>\n",
       "      <td>b'\\xe1\\xdb\\xd1\\x95\\x93\\x7f\\x17\\x7f\\xcd\\xea\\x7f...</td>\n",
       "      <td>23.0</td>\n",
       "      <td>3.285714</td>\n",
       "      <td>0.741935</td>\n",
       "      <td>Невинномысск СЦ</td>\n",
       "      <td>Юг</td>\n",
       "    </tr>\n",
       "    <tr>\n",
       "      <th>2</th>\n",
       "      <td>b'\\r\\xeb\\x1c6.\\xc4|\\x0f\\x86\\xc4\\x0f\\x8c\\x89\\xe...</td>\n",
       "      <td>b'\\xe1\\xdb\\xd1\\x95\\x93\\x7f\\x17\\x7f\\xcd\\xea\\x7f...</td>\n",
       "      <td>29.0</td>\n",
       "      <td>4.142857</td>\n",
       "      <td>0.935484</td>\n",
       "      <td>Невинномысск СЦ</td>\n",
       "      <td>Юг</td>\n",
       "    </tr>\n",
       "    <tr>\n",
       "      <th>3</th>\n",
       "      <td>b'\\x1288\\xae\\xa6\\xaaJ\\xd1q\\xe3J\\xdd#M\\xe1\\xae'</td>\n",
       "      <td>b'\\xe1\\xdb\\xd1\\x95\\x93\\x7f\\x17\\x7f\\xcd\\xea\\x7f...</td>\n",
       "      <td>28.0</td>\n",
       "      <td>4.000000</td>\n",
       "      <td>0.903226</td>\n",
       "      <td>Невинномысск СЦ</td>\n",
       "      <td>Юг</td>\n",
       "    </tr>\n",
       "    <tr>\n",
       "      <th>4</th>\n",
       "      <td>b'\\xbd\\xfdh33xze\\x13\\x1d\\xbd\\x119\\x96m\\xb9'</td>\n",
       "      <td>b'\\xe1\\xdb\\xd1\\x95\\x93\\x7f\\x17\\x7f\\xcd\\xea\\x7f...</td>\n",
       "      <td>18.0</td>\n",
       "      <td>2.571429</td>\n",
       "      <td>0.580645</td>\n",
       "      <td>Невинномысск СЦ</td>\n",
       "      <td>Юг</td>\n",
       "    </tr>\n",
       "  </tbody>\n",
       "</table>\n",
       "</div>"
      ],
      "text/plain": [
       "                                Идентификатор товара  \\\n",
       "0  b'\\xee\\xdf\\xa5\\xb3\\x1f\\xe5\\x81\\x18\\x1e\\x86j\\xe...   \n",
       "1        b'\\xe4\\xc6M\\x06q,6K\\x0c53\\xf0\\x8d\\xaa\\x92E'   \n",
       "2  b'\\r\\xeb\\x1c6.\\xc4|\\x0f\\x86\\xc4\\x0f\\x8c\\x89\\xe...   \n",
       "3     b'\\x1288\\xae\\xa6\\xaaJ\\xd1q\\xe3J\\xdd#M\\xe1\\xae'   \n",
       "4        b'\\xbd\\xfdh33xze\\x13\\x1d\\xbd\\x119\\x96m\\xb9'   \n",
       "\n",
       "                               Идентификатор филиала   Дни    Недели  \\\n",
       "0  b'\\xe1\\xdb\\xd1\\x95\\x93\\x7f\\x17\\x7f\\xcd\\xea\\x7f...  19.0  2.714286   \n",
       "1  b'\\xe1\\xdb\\xd1\\x95\\x93\\x7f\\x17\\x7f\\xcd\\xea\\x7f...  23.0  3.285714   \n",
       "2  b'\\xe1\\xdb\\xd1\\x95\\x93\\x7f\\x17\\x7f\\xcd\\xea\\x7f...  29.0  4.142857   \n",
       "3  b'\\xe1\\xdb\\xd1\\x95\\x93\\x7f\\x17\\x7f\\xcd\\xea\\x7f...  28.0  4.000000   \n",
       "4  b'\\xe1\\xdb\\xd1\\x95\\x93\\x7f\\x17\\x7f\\xcd\\xea\\x7f...  18.0  2.571429   \n",
       "\n",
       "     Месяцы Наименование филиала Наименование региона  \n",
       "0  0.612903      Невинномысск СЦ                   Юг  \n",
       "1  0.741935      Невинномысск СЦ                   Юг  \n",
       "2  0.935484      Невинномысск СЦ                   Юг  \n",
       "3  0.903226      Невинномысск СЦ                   Юг  \n",
       "4  0.580645      Невинномысск СЦ                   Юг  "
      ]
     },
     "execution_count": 372,
     "metadata": {},
     "output_type": "execute_result"
    }
   ],
   "source": [
    "storage_time = pd.merge(storage_time, handbook, on=filial_id)\n",
    "storage_time.head(5)"
   ]
  },
  {
   "cell_type": "markdown",
   "metadata": {},
   "source": [
    "**Рассчитаем среднее время нахождения товара в сервисном центре.**\n",
    "\n",
    "Построим гистограмму распределения по месяцам."
   ]
  },
  {
   "cell_type": "code",
   "execution_count": 377,
   "metadata": {},
   "outputs": [
    {
     "data": {
      "text/plain": [
       "<AxesSubplot:xlabel='Время хранения по месяцам', ylabel='Количество товаров'>"
      ]
     },
     "execution_count": 377,
     "metadata": {},
     "output_type": "execute_result"
    },
    {
     "data": {
      "image/png": "[encoded data removed]",
      "text/plain": [
       "<Figure size 432x288 with 1 Axes>"
      ]
     },
     "metadata": {
      "needs_background": "light"
     },
     "output_type": "display_data"
    }
   ],
   "source": [
    "plt.xlabel('Время хранения по месяцам')\n",
    "plt.ylabel('Количество товаров')\n",
    "storage_time[months].hist(bins=30)"
   ]
  },
  {
   "cell_type": "markdown",
   "metadata": {},
   "source": [
    "**Видим, что гистограмма разделяется на две части, где время нахождения ~30 месяцев, это тот самый товар без документа выдачи.**\n",
    "\n",
    "Если мы посчитаем среднее время нахождения товара в таком виде, то время нахождения ~30 месяцев будет увеличивать среднее значение."
   ]
  },
  {
   "cell_type": "code",
   "execution_count": 378,
   "metadata": {},
   "outputs": [
    {
     "name": "stdout",
     "output_type": "stream",
     "text": [
      "Среднее время нахождения товара в сервисном центре:\n",
      "Месяцы 2.36\n",
      "Недели 10.47\n",
      "Дни 73\n"
     ]
    }
   ],
   "source": [
    "print('Среднее время нахождения товара в сервисном центре:')\n",
    "print('Месяцы', f'{storage_time[months].mean():.{2}f}')\n",
    "print('Недели', f'{storage_time[weeks].mean():.{2}f}')\n",
    "print('Дни', round(storage_time[days].mean()))"
   ]
  },
  {
   "cell_type": "markdown",
   "metadata": {},
   "source": [
    "**Отфильтруем значения, где время нахождения ~30 месяцев.**\n",
    "\n",
    "Отфильтровав эти значения, получим более точную оценку среднего."
   ]
  },
  {
   "cell_type": "code",
   "execution_count": 379,
   "metadata": {},
   "outputs": [
    {
     "data": {
      "text/plain": [
       "<AxesSubplot:xlabel='Время хранения по месяцам', ylabel='Количество товаров'>"
      ]
     },
     "execution_count": 379,
     "metadata": {},
     "output_type": "execute_result"
    },
    {
     "data": {
      "image/png": "[encoded data removed]",
      "text/plain": [
       "<Figure size 432x288 with 1 Axes>"
      ]
     },
     "metadata": {
      "needs_background": "light"
     },
     "output_type": "display_data"
    }
   ],
   "source": [
    "new_storage_time = storage_time[storage_time[months] < 25]\n",
    "\n",
    "plt.xlabel('Время хранения по месяцам')\n",
    "plt.ylabel('Количество товаров')\n",
    "new_storage_time[months].hist(bins=20)"
   ]
  },
  {
   "cell_type": "code",
   "execution_count": 380,
   "metadata": {},
   "outputs": [
    {
     "name": "stdout",
     "output_type": "stream",
     "text": [
      "Среднее время нахождения товара в сервисном центре:\n",
      "Месяцы 0.67\n",
      "Недели 2.98\n",
      "Дни 21\n"
     ]
    }
   ],
   "source": [
    "print('Среднее время нахождения товара в сервисном центре:')\n",
    "print('Месяцы', f'{new_storage_time[months].mean():.{2}f}')\n",
    "print('Недели', f'{new_storage_time[weeks].mean():.{2}f}')\n",
    "print('Дни', round(new_storage_time[days].mean()))"
   ]
  },
  {
   "cell_type": "markdown",
   "metadata": {},
   "source": [
    "**Найдем динамику по месяцам и неделям в разрезе регионов.**"
   ]
  },
  {
   "cell_type": "code",
   "execution_count": 381,
   "metadata": {},
   "outputs": [
    {
     "data": {
      "text/html": [
       "<div>\n",
       "<style scoped>\n",
       "    .dataframe tbody tr th:only-of-type {\n",
       "        vertical-align: middle;\n",
       "    }\n",
       "\n",
       "    .dataframe tbody tr th {\n",
       "        vertical-align: top;\n",
       "    }\n",
       "\n",
       "    .dataframe thead th {\n",
       "        text-align: right;\n",
       "    }\n",
       "</style>\n",
       "<table border=\"1\" class=\"dataframe\">\n",
       "  <thead>\n",
       "    <tr style=\"text-align: right;\">\n",
       "      <th></th>\n",
       "      <th>Месяцы</th>\n",
       "      <th>Недели</th>\n",
       "    </tr>\n",
       "    <tr>\n",
       "      <th>Наименование региона</th>\n",
       "      <th></th>\n",
       "      <th></th>\n",
       "    </tr>\n",
       "  </thead>\n",
       "  <tbody>\n",
       "    <tr>\n",
       "      <th>Верхняя Волга</th>\n",
       "      <td>0.581906</td>\n",
       "      <td>2.577012</td>\n",
       "    </tr>\n",
       "    <tr>\n",
       "      <th>Восточная Сибирь</th>\n",
       "      <td>0.718832</td>\n",
       "      <td>3.183397</td>\n",
       "    </tr>\n",
       "    <tr>\n",
       "      <th>Дальний Восток</th>\n",
       "      <td>0.837050</td>\n",
       "      <td>3.706938</td>\n",
       "    </tr>\n",
       "    <tr>\n",
       "      <th>Западная Сибирь</th>\n",
       "      <td>0.718371</td>\n",
       "      <td>3.181356</td>\n",
       "    </tr>\n",
       "    <tr>\n",
       "      <th>Приволжский</th>\n",
       "      <td>0.581338</td>\n",
       "      <td>2.574496</td>\n",
       "    </tr>\n",
       "    <tr>\n",
       "      <th>Средняя Волга</th>\n",
       "      <td>0.771928</td>\n",
       "      <td>3.418538</td>\n",
       "    </tr>\n",
       "    <tr>\n",
       "      <th>Урал</th>\n",
       "      <td>0.735936</td>\n",
       "      <td>3.259144</td>\n",
       "    </tr>\n",
       "    <tr>\n",
       "      <th>Центральный</th>\n",
       "      <td>0.670802</td>\n",
       "      <td>2.970696</td>\n",
       "    </tr>\n",
       "    <tr>\n",
       "      <th>Черноземье</th>\n",
       "      <td>0.582084</td>\n",
       "      <td>2.577801</td>\n",
       "    </tr>\n",
       "    <tr>\n",
       "      <th>Юг</th>\n",
       "      <td>0.542619</td>\n",
       "      <td>2.403028</td>\n",
       "    </tr>\n",
       "  </tbody>\n",
       "</table>\n",
       "</div>"
      ],
      "text/plain": [
       "                        Месяцы    Недели\n",
       "Наименование региона                    \n",
       "Верхняя Волга         0.581906  2.577012\n",
       "Восточная Сибирь      0.718832  3.183397\n",
       "Дальний Восток        0.837050  3.706938\n",
       "Западная Сибирь       0.718371  3.181356\n",
       "Приволжский           0.581338  2.574496\n",
       "Средняя Волга         0.771928  3.418538\n",
       "Урал                  0.735936  3.259144\n",
       "Центральный           0.670802  2.970696\n",
       "Черноземье            0.582084  2.577801\n",
       "Юг                    0.542619  2.403028"
      ]
     },
     "execution_count": 381,
     "metadata": {},
     "output_type": "execute_result"
    }
   ],
   "source": [
    "new_storage_time.groupby(region_name)[[months, weeks]].mean()"
   ]
  },
  {
   "cell_type": "markdown",
   "metadata": {},
   "source": [
    "**Выведем нормативный срок хранения по всей компании.**\n",
    "\n",
    "Возьмем нормативный срок хранения товара в сервисном центре как среднеарифметическое по дням и округлим его."
   ]
  },
  {
   "cell_type": "code",
   "execution_count": 382,
   "metadata": {},
   "outputs": [
    {
     "data": {
      "text/plain": [
       "<AxesSubplot:xlabel='Время хранения по дням', ylabel='Количество товаров'>"
      ]
     },
     "execution_count": 382,
     "metadata": {},
     "output_type": "execute_result"
    },
    {
     "data": {
      "image/png": "[encoded data removed]",
      "text/plain": [
       "<Figure size 432x288 with 1 Axes>"
      ]
     },
     "metadata": {
      "needs_background": "light"
     },
     "output_type": "display_data"
    }
   ],
   "source": [
    "plt.xlabel('Время хранения по дням')\n",
    "plt.ylabel('Количество товаров')\n",
    "new_storage_time[days].hist()"
   ]
  },
  {
   "cell_type": "code",
   "execution_count": 383,
   "metadata": {},
   "outputs": [
    {
     "name": "stdout",
     "output_type": "stream",
     "text": [
      "Нормативный срок хранения - 21 день.\n"
     ]
    }
   ],
   "source": [
    "std_storage_time = round(new_storage_time[days].mean())\n",
    "print('Нормативный срок хранения -', std_storage_time, 'день.')"
   ]
  },
  {
   "cell_type": "markdown",
   "metadata": {},
   "source": [
    "**Графически представим динамику отклонения от нормы по каждому региону.**"
   ]
  },
  {
   "cell_type": "code",
   "execution_count": 384,
   "metadata": {},
   "outputs": [],
   "source": [
    "storage_time_by_region = new_storage_time.groupby(region_name)[[days]].mean().apply(list)"
   ]
  },
  {
   "cell_type": "code",
   "execution_count": 386,
   "metadata": {},
   "outputs": [
    {
     "data": {
      "image/png": "[encoded data removed]",
      "text/plain": [
       "<Figure size 1224x648 with 1 Axes>"
      ]
     },
     "metadata": {
      "needs_background": "light"
     },
     "output_type": "display_data"
    }
   ],
   "source": [
    "plt.figure(figsize=(17, 9))\n",
    "plt.xlabel('Регионы')\n",
    "plt.ylabel('Среднее время хранения в днях')\n",
    "\n",
    "plt.scatter(storage_time_by_region.index, storage_time_by_region.values)\n",
    "plt.plot(storage_time_by_region.index, storage_time_by_region.values, label='Динамика среднего времени хранения товара')\n",
    "plt.plot(storage_time_by_region.index, [std_storage_time] * storage_time_by_region.size, label='Нормативный срок хранения товара')\n",
    "\n",
    "plt.legend()\n",
    "plt.grid()"
   ]
  }
 ],
 "metadata": {
  "kernelspec": {
   "display_name": "Python 3.9.7 ('.venv': venv)",
   "language": "python",
   "name": "python3"
  },
  "language_info": {
   "codemirror_mode": {
    "name": "ipython",
    "version": 3
   },
   "file_extension": ".py",
   "mimetype": "text/x-python",
   "name": "python",
   "nbconvert_exporter": "python",
   "pygments_lexer": "ipython3",
   "version": "3.9.7"
  },
  "orig_nbformat": 4,
  "vscode": {
   "interpreter": {
    "hash": "0d8913c34be7f3dc39b24e940284ce5182c755ef5fe84c13d4dabdab033123b1"
   }
  }
 },
 "nbformat": 4,
 "nbformat_minor": 2
}
